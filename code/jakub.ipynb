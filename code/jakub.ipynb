{
 "cells": [
  {
   "cell_type": "code",
   "execution_count": null,
   "metadata": {},
   "outputs": [],
   "source": [
    "# pip install fredapi pandas yahoo_fin\n",
    "\n",
    "# https://fred.stlouisfed.org/\n",
    "\n",
    "# Vyhledej cokoliv co by mohlo mít correlation s cenou s&p500      \n",
    "# zkopíruj source_id z \"Source ID:{id}\" a id přidej do seznamu IDs dole"
   ]
  },
  {
   "cell_type": "code",
   "execution_count": 1,
   "metadata": {},
   "outputs": [],
   "source": [
    "from fredapi import Fred\n",
    "import pandas as pd\n",
    "from yahoo_fin import stock_info as si\n",
    "import datetime"
   ]
  },
  {
   "cell_type": "code",
   "execution_count": null,
   "metadata": {},
   "outputs": [],
   "source": [
    "LABEL_PATH = \"Sem napiš kde chceš mít labels\"\n",
    "DATA_PATH = \"Sem napiš kde chceš mít data\"\n",
    "\n",
    "IDs = [\"TB3MS\", \"DCOILWTICO\",\"CORESTICKM159SFRBATL\"] #Jenom příklady, asi sou na prediction celkem k ničemu\n",
    "\n",
    "START = datetime.strptime('1960-01-01', r\"%Y-%m-%d\")\n",
    "END = datetime.now().date()"
   ]
  },
  {
   "cell_type": "code",
   "execution_count": 2,
   "metadata": {},
   "outputs": [],
   "source": [
    "fred = Fred(api_key='0c34c4dd2fd6943f6549f1c990a8a0f0') \n",
    "\n",
    "def fred_info(ids:list, start:str, end:str):\n",
    "    #Returns a dataframe with all of the indicators together\n",
    "    #start and end are datatime objects\n",
    "    start = start.strftime('%Y-%m-%d')\n",
    "    end = end.strftime('%Y-%m-%d')\n",
    "    series_list = []\n",
    "    for id in ids:\n",
    "        series = fred.get_series(id,observation_start=start, observation_end=end)\n",
    "        series_list.append(series)\n",
    "    frame = pd.concat(series_list, axis=1, join=\"outer\")\n",
    "    frame.columns = ids\n",
    "    return frame"
   ]
  },
  {
   "cell_type": "code",
   "execution_count": null,
   "metadata": {},
   "outputs": [],
   "source": [
    "#Labels\n",
    "indicator_frame = fred_info(IDs, START, datetime.now().date())\n",
    "indicator_frame.to_csv(DATA_PATH)\n",
    "\n",
    "#Data\n",
    "sp500_hist = si.get_data(\"^GSPC\", start_date=START.strftime(\"%Y-%m-%d\"), end_date=END.strftime(\"%Y-%m-%d\"))\n",
    "sp500_hist.to_csv(LABEL_PATH)"
   ]
  }
 ],
 "metadata": {
  "kernelspec": {
   "display_name": "Python 3",
   "language": "python",
   "name": "python3"
  },
  "language_info": {
   "codemirror_mode": {
    "name": "ipython",
    "version": 3
   },
   "file_extension": ".py",
   "mimetype": "text/x-python",
   "name": "python",
   "nbconvert_exporter": "python",
   "pygments_lexer": "ipython3",
   "version": "3.11.6"
  }
 },
 "nbformat": 4,
 "nbformat_minor": 2
}
