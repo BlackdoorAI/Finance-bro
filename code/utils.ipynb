{
 "cells": [
  {
   "cell_type": "markdown",
   "metadata": {},
   "source": [
    "Get the list of elements"
   ]
  },
  {
   "cell_type": "code",
   "execution_count": null,
   "metadata": {},
   "outputs": [],
   "source": [
    "comp = comp_load(\"PFE\")\n",
    "frame, unit = comp.fact(\"NetCashProvidedByUsedInOperatingActivities\")\n",
    "# print(frames,unit)\n",
    "# frame.head()\n",
    "# columns_to_load = ['name', 'documentation', 'balance','periodType','deprecatedLabel','deprecatedDate']\n",
    "# # Load the CSV file\n",
    "# df = pd.read_csv('frames\\SecondListOfElements.csv', usecols=columns_to_load, encoding='latin1')\n",
    "frame.to_csv(\"..\\examples\\Scramble.csv\")\n",
    "# print(comp.measures_and_dates)\n",
    "# comp = comp_load(\"BLK\")\n",
    "# for motion, lists in comp.measures_and_dates.items():\n",
    "#     for i in lists:\n",
    "#         print(i)\n",
    "# print(comp.fact(\"Assets\", date_gather = True))"
   ]
  },
  {
   "cell_type": "markdown",
   "metadata": {},
   "source": [
    "Find out what share methods companies use"
   ]
  },
  {
   "cell_type": "code",
   "execution_count": null,
   "metadata": {},
   "outputs": [],
   "source": [
    "have = 0\n",
    "total = 0\n",
    "for ticker, availability in list(company_frames_availability.items())[:]:\n",
    "    if availability[0] == \"del\":\n",
    "        continue \n",
    "    (static, dynamic), yahoo = availability\n",
    "    if (static  or dynamic):\n",
    "        total +=1\n",
    "        comp = comp_load(ticker)\n",
    "        value = comp.data.get(\"EntityPublicFloat\", False)\n",
    "        if value:\n",
    "            have +=1\n",
    "        # else:\n",
    "        #     value = comp.data.get(\"WeightedAverageNumberOfDilutedSharesOutstanding\", False)\n",
    "        #     if value:\n",
    "        #         have +=1\n",
    "        #     else:\n",
    "        #         value = comp.data.get(\"EntityCommonStockSharesOutstanding\", False)\n",
    "        #         if value:\n",
    "        #             have+=1\n",
    "print(have/total)"
   ]
  },
  {
   "cell_type": "markdown",
   "metadata": {},
   "source": [
    "Deprecated."
   ]
  },
  {
   "cell_type": "code",
   "execution_count": null,
   "metadata": {},
   "outputs": [],
   "source": [
    "dictionary = {}\n",
    "tickers = [\"META\"]\n",
    "for ticker in tickers:\n",
    "    data = sync_companyfacts(ticker).json()\n",
    "    data = data[\"facts\"][\"us-gaap\"]\n",
    "    for key,value in data.items():\n",
    "        del value[\"units\"]\n",
    "        if not key in dictionary:\n",
    "            dictionary[key] = value\n",
    "\n",
    "with open(\"deprecated.json\", \"w\")as file:\n",
    "    json.dump(dictionary, file, indent= 1)\n",
    "    file.close()"
   ]
  },
  {
   "cell_type": "markdown",
   "metadata": {},
   "source": [
    "Get all the measure names"
   ]
  },
  {
   "cell_type": "code",
   "execution_count": null,
   "metadata": {},
   "outputs": [],
   "source": [
    "ticker = \"MSFT\"\n",
    "unit_list =[]\n",
    "for ticker, availability in company_frames_availability.items():\n",
    "    edgar, yahoo = availability\n",
    "    if edgar and yahoo:\n",
    "        with open(f\"companies\\{ticker}.pkl\", \"rb\")as file:\n",
    "            company = pickle.load(file)\n",
    "            data = company.data\n",
    "            compdict = {}\n",
    "            for name,value in data.items():\n",
    "                units = value[\"units\"]\n",
    "                unit_list += list(units.keys())\n",
    "\n",
    "print(set(unit_list))"
   ]
  }
 ],
 "metadata": {
  "language_info": {
   "name": "python"
  }
 },
 "nbformat": 4,
 "nbformat_minor": 2
}
