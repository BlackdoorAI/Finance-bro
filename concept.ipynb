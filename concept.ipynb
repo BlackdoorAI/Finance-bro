{
 "cells": [
  {
   "cell_type": "code",
   "execution_count": 4,
   "metadata": {},
   "outputs": [],
   "source": [
    "import httpx\n",
    "import json\n",
    "headers = {\n",
    "    \"User-Agent\":\"ficakc@seznam.cz\",\n",
    "    \"Accept-Encoding\":\"gzip, deflate\",\n",
    "}\n",
    "url = \"https://data.sec.gov/api/xbrl/companyconcept/CIK0000080424/us-gaap/AccountsPayableCurrent.json\"\n",
    "data = httpx.get(url, headers = headers).json()\n",
    "\n",
    "with open(\"C:\\Programming\\Python\\Finance\\EDGAR\\concept.json\", \"w\") as file:\n",
    "    json.dump(data,file, indent= 1)\n",
    "    file.close()\n",
    "\n"
   ]
  }
 ],
 "metadata": {
  "kernelspec": {
   "display_name": "Python 3",
   "language": "python",
   "name": "python3"
  },
  "language_info": {
   "codemirror_mode": {
    "name": "ipython",
    "version": 3
   },
   "file_extension": ".py",
   "mimetype": "text/x-python",
   "name": "python",
   "nbconvert_exporter": "python",
   "pygments_lexer": "ipython3",
   "version": "3.11.6"
  }
 },
 "nbformat": 4,
 "nbformat_minor": 2
}
